{
 "cells": [
  {
   "cell_type": "code",
   "execution_count": 1,
   "id": "c74cb754",
   "metadata": {},
   "outputs": [],
   "source": [
    "import pandas as pd\n",
    "from bs4 import BeautifulSoup\n",
    "import requests"
   ]
  },
  {
   "cell_type": "markdown",
   "id": "14bfc35d",
   "metadata": {},
   "source": [
    " #### Scrape billboard hot 100"
   ]
  },
  {
   "cell_type": "code",
   "execution_count": 2,
   "id": "49947c99",
   "metadata": {},
   "outputs": [],
   "source": [
    "billboard_top_100 = pd.DataFrame([], columns=['artists', 'songs'])"
   ]
  },
  {
   "cell_type": "code",
   "execution_count": 3,
   "id": "c23b0307",
   "metadata": {},
   "outputs": [],
   "source": [
    "def scrape_billboard_hot_100(dataset):\n",
    "    r = requests.get('https://www.billboard.com/charts/hot-100/')\n",
    "    soup = BeautifulSoup(r.content, 'html.parser')\n",
    "    song_rows = soup.find_all('div', attrs={'class': 'o-chart-results-list-row-container'})\n",
    "    for i, row in enumerate(song_rows):\n",
    "        song = row.find('h3', attrs={'class': 'a-no-trucate', 'id': 'title-of-a-story'})    \n",
    "        artist =  row.find_all('span', attrs={'class': 'c-label'})[1]\n",
    "\n",
    "        dataset.at[dataset.shape[0]] = [ artist.get_text(strip=True), \n",
    "                                        song.get_text(strip=True)]"
   ]
  },
  {
   "cell_type": "code",
   "execution_count": 4,
   "id": "a29536bd",
   "metadata": {},
   "outputs": [],
   "source": [
    "scrape_billboard_hot_100(billboard_top_100)"
   ]
  },
  {
   "cell_type": "code",
   "execution_count": 5,
   "id": "20fdf724",
   "metadata": {},
   "outputs": [
    {
     "data": {
      "text/html": [
       "<div>\n",
       "<style scoped>\n",
       "    .dataframe tbody tr th:only-of-type {\n",
       "        vertical-align: middle;\n",
       "    }\n",
       "\n",
       "    .dataframe tbody tr th {\n",
       "        vertical-align: top;\n",
       "    }\n",
       "\n",
       "    .dataframe thead th {\n",
       "        text-align: right;\n",
       "    }\n",
       "</style>\n",
       "<table border=\"1\" class=\"dataframe\">\n",
       "  <thead>\n",
       "    <tr style=\"text-align: right;\">\n",
       "      <th></th>\n",
       "      <th>artists</th>\n",
       "      <th>songs</th>\n",
       "    </tr>\n",
       "  </thead>\n",
       "  <tbody>\n",
       "    <tr>\n",
       "      <th>0</th>\n",
       "      <td>Miley Cyrus</td>\n",
       "      <td>Flowers</td>\n",
       "    </tr>\n",
       "    <tr>\n",
       "      <th>1</th>\n",
       "      <td>SZA</td>\n",
       "      <td>Kill Bill</td>\n",
       "    </tr>\n",
       "    <tr>\n",
       "      <th>2</th>\n",
       "      <td>PinkPantheress &amp; Ice Spice</td>\n",
       "      <td>Boy's A Liar, Pt. 2</td>\n",
       "    </tr>\n",
       "    <tr>\n",
       "      <th>3</th>\n",
       "      <td>Metro Boomin, The Weeknd &amp; 21 Savage</td>\n",
       "      <td>Creepin'</td>\n",
       "    </tr>\n",
       "    <tr>\n",
       "      <th>4</th>\n",
       "      <td>Morgan Wallen</td>\n",
       "      <td>Last Night</td>\n",
       "    </tr>\n",
       "    <tr>\n",
       "      <th>...</th>\n",
       "      <td>...</td>\n",
       "      <td>...</td>\n",
       "    </tr>\n",
       "    <tr>\n",
       "      <th>95</th>\n",
       "      <td>NEW</td>\n",
       "      <td>Slut Me Out</td>\n",
       "    </tr>\n",
       "    <tr>\n",
       "      <th>96</th>\n",
       "      <td>Arcangel &amp; Bad Bunny</td>\n",
       "      <td>La Jumpa</td>\n",
       "    </tr>\n",
       "    <tr>\n",
       "      <th>97</th>\n",
       "      <td>Hotel Ugly</td>\n",
       "      <td>Shut Up My Moms Calling</td>\n",
       "    </tr>\n",
       "    <tr>\n",
       "      <th>98</th>\n",
       "      <td>NEW</td>\n",
       "      <td>Gold</td>\n",
       "    </tr>\n",
       "    <tr>\n",
       "      <th>99</th>\n",
       "      <td>Finesse2Tymes</td>\n",
       "      <td>Back End</td>\n",
       "    </tr>\n",
       "  </tbody>\n",
       "</table>\n",
       "<p>100 rows × 2 columns</p>\n",
       "</div>"
      ],
      "text/plain": [
       "                                 artists                    songs\n",
       "0                            Miley Cyrus                  Flowers\n",
       "1                                    SZA                Kill Bill\n",
       "2             PinkPantheress & Ice Spice      Boy's A Liar, Pt. 2\n",
       "3   Metro Boomin, The Weeknd & 21 Savage                 Creepin'\n",
       "4                          Morgan Wallen               Last Night\n",
       "..                                   ...                      ...\n",
       "95                                   NEW              Slut Me Out\n",
       "96                  Arcangel & Bad Bunny                 La Jumpa\n",
       "97                            Hotel Ugly  Shut Up My Moms Calling\n",
       "98                                   NEW                     Gold\n",
       "99                         Finesse2Tymes                 Back End\n",
       "\n",
       "[100 rows x 2 columns]"
      ]
     },
     "execution_count": 5,
     "metadata": {},
     "output_type": "execute_result"
    }
   ],
   "source": [
    "billboard_top_100"
   ]
  },
  {
   "cell_type": "code",
   "execution_count": 6,
   "id": "6599fbcd",
   "metadata": {},
   "outputs": [],
   "source": [
    "billboard_top_100.to_csv('billboard_100.csv', index=False)"
   ]
  },
  {
   "cell_type": "code",
   "execution_count": 7,
   "id": "97cd746f",
   "metadata": {},
   "outputs": [],
   "source": [
    "url1=\"https://www.offiziellecharts.de/charts/single/for-date-1651096800000\""
   ]
  },
  {
   "cell_type": "code",
   "execution_count": 8,
   "id": "226744ce",
   "metadata": {},
   "outputs": [
    {
     "data": {
      "text/plain": [
       "200"
      ]
     },
     "execution_count": 8,
     "metadata": {},
     "output_type": "execute_result"
    }
   ],
   "source": [
    "request_charts1 = requests.get(url1)\n",
    "request_charts1.status_code"
   ]
  },
  {
   "cell_type": "code",
   "execution_count": 9,
   "id": "8c810f08",
   "metadata": {},
   "outputs": [
    {
     "data": {
      "text/plain": [
       "b'<!doctype html>\\r\\n<html prefix=\"og: http://ogp.me/ns#\" class=\"no-js\" xmlns=\"http://www.w3.org/1999/xh'"
      ]
     },
     "execution_count": 9,
     "metadata": {},
     "output_type": "execute_result"
    }
   ],
   "source": [
    "request_charts1.content[:100]"
   ]
  },
  {
   "cell_type": "code",
   "execution_count": 10,
   "id": "d6794f0d",
   "metadata": {
    "scrolled": true
   },
   "outputs": [
    {
     "name": "stdout",
     "output_type": "stream",
     "text": [
      "<!DOCTYPE html>\n",
      "<html class=\"no-js\" lang=\"de-de\" prefix=\"og: http://ogp.me/ns#\" xml:lang=\"de-de\" xmlns=\"http://www.w3.org/1999/xhtml\">\n",
      " <meta content=\"Hier gibt’s die Offiziellen Deutschen Charts in ihrer ganzen Vielfalt. Denn: Hier zählt die Musik.\" name=\"description\"/>\n",
      " <head>\n",
      "  <script type=\"text/javascript\">\n",
      "   (function(){   function blockCookies(disableCookies, disableLocal, disableSession){   if(disableCookies == 1){   if(!document.__defineGetter__){   Object.defineProperty(document, 'cookie',{   get: function(){ return ''; },   set: function(){ return true;}   });   }else{   var oldSetter = document.__lookupSetter__('cookie');   if(oldSetter) {   Object.defineProperty(document, 'cookie', {   get: function(){ return ''; },   set: function(v){   if(v.match(/reDimCookieHint\\=/)) {   oldSetter.call(document, v);   }   return true;   }   });   }   }   var cookies = document.cookie.split(';');   for (var i = 0; i < cookies.length; i++) {   var cookie = cookies[i];   var pos = cookie.indexOf('=');   var name = '';   if(pos > -1){   name = cookie.substr(0, pos);   }else{   name = cookie;   }   if(name.match(/reDimCookieHint/)) {   document.cookie = name + '=; expires=Thu, 01 Jan 1970 00:00:00 GMT';   }   }   }   if(disableLocal == 1){   window.localStorage.clear();   window.localStorage.__proto__ = Object.create(window.Storage.prototype);   window.localStorage.__proto__.setItem = function(){ return undefined; };   }   if(disableSession == 1){   window.sessionStorage.clear();   window.sessionStorage.__proto__ = Object.create(window.Storage.prototype);   window.sessionStorage.__proto__.setItem = function(){ return undefined; };   }   }   blockCookies(1,1,1);   }());\n",
      "  </script>\n",
      "  <base href=\"https://www.offiziellecharts.de/charts/single/for-date-1651096800000\"/>\n",
      "  <meta content=\"text/html; charset=utf-8\" http-equiv=\"content-type\"/>\n",
      "  <meta content=\"Hier gibt’s die Offiziellen Deutschen Charts in ihrer ganzen Vielfalt. Denn: Hier zählt die Musik.\" name=\"description\"/>\n",
      "  <meta content=\"Joomla! - Open Source Content Management\" name=\"generator\"/>\n",
      "  <title>\n",
      "   Offizielle Deutsche Charts - Offizielle Deutsche Charts\n",
      "  </title>\n",
      "  <link href=\"/templates/gfktemplate/favicon.ico\" rel=\"shortcut icon\" type=\"image/vnd.microsoft.icon\"/>\n",
      "  <style type=\"text/css\">\n",
      "   #redim-cookiehint-modal {position: fixed; top: 0; bottom: 0; left: 0; right: 0; z-index: 99998; display: flex; justify-content : center; align-items : center;}\n",
      "  </style>\n",
      "  <script src=\"/media/k2/assets/js/k2.frontend.js?v=2.10.3&amp;b=20200429&amp;sitepath=/\" type=\"text/javascript\">\n",
      "  </script>\n",
      "  <script type=\"text/javascript\">\n",
      "   function do_nothing() { return; }\n",
      "  </script>\n",
      "  <meta content=\"IE=edge\" http-equiv=\"X-UA-Compatible\"/>\n",
      "  <meta content=\"height=device-height, width=device-width, initial-scale=1.0, maximum-scale=1, user-scalable=no, minimal-ui\" name=\"viewport\"/>\n",
      "  <meta content=\"yes\" name=\"apple-mobile-web-app-capable\"/>\n",
      "  <link href=\"/templates/gfktemplate/favicon.ico\" rel=\"shortcut icon\"\n"
     ]
    }
   ],
   "source": [
    "soup1 = BeautifulSoup(request_charts1.content, 'html.parser')\n",
    "print(soup1.prettify()[:3000])"
   ]
  },
  {
   "cell_type": "code",
   "execution_count": 11,
   "id": "e6e2df17",
   "metadata": {},
   "outputs": [],
   "source": [
    "artist1 = []\n",
    "for span in soup1.find_all('span', attrs={'class':'info-artist'}):\n",
    "    artist1.append(span.get_text())"
   ]
  },
  {
   "cell_type": "code",
   "execution_count": 12,
   "id": "f79f2660",
   "metadata": {},
   "outputs": [],
   "source": [
    "title1 = []\n",
    "for span in soup1.find_all('span', attrs={'class':'info-title'}):\n",
    "    title1.append(span.get_text())"
   ]
  },
  {
   "cell_type": "code",
   "execution_count": 13,
   "id": "0cd6b15e",
   "metadata": {},
   "outputs": [
    {
     "data": {
      "text/html": [
       "<div>\n",
       "<style scoped>\n",
       "    .dataframe tbody tr th:only-of-type {\n",
       "        vertical-align: middle;\n",
       "    }\n",
       "\n",
       "    .dataframe tbody tr th {\n",
       "        vertical-align: top;\n",
       "    }\n",
       "\n",
       "    .dataframe thead th {\n",
       "        text-align: right;\n",
       "    }\n",
       "</style>\n",
       "<table border=\"1\" class=\"dataframe\">\n",
       "  <thead>\n",
       "    <tr style=\"text-align: right;\">\n",
       "      <th></th>\n",
       "      <th>artists</th>\n",
       "      <th>songs</th>\n",
       "    </tr>\n",
       "  </thead>\n",
       "  <tbody>\n",
       "    <tr>\n",
       "      <th>0</th>\n",
       "      <td>Harry Styles</td>\n",
       "      <td>As It Was</td>\n",
       "    </tr>\n",
       "    <tr>\n",
       "      <th>1</th>\n",
       "      <td>Jack Harlow</td>\n",
       "      <td>First Class</td>\n",
       "    </tr>\n",
       "    <tr>\n",
       "      <th>2</th>\n",
       "      <td>Rammstein</td>\n",
       "      <td>Zick zack</td>\n",
       "    </tr>\n",
       "    <tr>\n",
       "      <th>3</th>\n",
       "      <td>Miksu / MacLoud &amp; T-Low</td>\n",
       "      <td>Sehnsucht</td>\n",
       "    </tr>\n",
       "    <tr>\n",
       "      <th>4</th>\n",
       "      <td>Glass Animals</td>\n",
       "      <td>Heat Waves</td>\n",
       "    </tr>\n",
       "    <tr>\n",
       "      <th>...</th>\n",
       "      <td>...</td>\n",
       "      <td>...</td>\n",
       "    </tr>\n",
       "    <tr>\n",
       "      <th>95</th>\n",
       "      <td>Art [DE]</td>\n",
       "      <td>Belgisches Viertel</td>\n",
       "    </tr>\n",
       "    <tr>\n",
       "      <th>96</th>\n",
       "      <td>Pashanim</td>\n",
       "      <td>Paris Freestyle</td>\n",
       "    </tr>\n",
       "    <tr>\n",
       "      <th>97</th>\n",
       "      <td>Gabry Ponte x Lum!x x Prezioso</td>\n",
       "      <td>Thunder</td>\n",
       "    </tr>\n",
       "    <tr>\n",
       "      <th>98</th>\n",
       "      <td>atb x Topic x A7S</td>\n",
       "      <td>Your Love (9PM)</td>\n",
       "    </tr>\n",
       "    <tr>\n",
       "      <th>99</th>\n",
       "      <td>Jnr Choi</td>\n",
       "      <td>To The Moon</td>\n",
       "    </tr>\n",
       "  </tbody>\n",
       "</table>\n",
       "<p>100 rows × 2 columns</p>\n",
       "</div>"
      ],
      "text/plain": [
       "                           artists               songs\n",
       "0                     Harry Styles           As It Was\n",
       "1                      Jack Harlow         First Class\n",
       "2                        Rammstein           Zick zack\n",
       "3          Miksu / MacLoud & T-Low           Sehnsucht\n",
       "4                    Glass Animals          Heat Waves\n",
       "..                             ...                 ...\n",
       "95                        Art [DE]  Belgisches Viertel\n",
       "96                        Pashanim     Paris Freestyle\n",
       "97  Gabry Ponte x Lum!x x Prezioso             Thunder\n",
       "98               atb x Topic x A7S     Your Love (9PM)\n",
       "99                        Jnr Choi         To The Moon\n",
       "\n",
       "[100 rows x 2 columns]"
      ]
     },
     "execution_count": 13,
     "metadata": {},
     "output_type": "execute_result"
    }
   ],
   "source": [
    "charts1 = pd.DataFrame({\"artists\":artist1,\n",
    "                        \"songs\":title1})\n",
    "\n",
    "charts1"
   ]
  },
  {
   "cell_type": "code",
   "execution_count": 14,
   "id": "5e7ce750",
   "metadata": {},
   "outputs": [],
   "source": [
    "url2=\"https://www.officialcharts.com/charts/singles-chart/\""
   ]
  },
  {
   "cell_type": "code",
   "execution_count": 15,
   "id": "d988dee9",
   "metadata": {},
   "outputs": [
    {
     "data": {
      "text/plain": [
       "200"
      ]
     },
     "execution_count": 15,
     "metadata": {},
     "output_type": "execute_result"
    }
   ],
   "source": [
    "request_charts2 = requests.get(url2)\n",
    "request_charts2.status_code"
   ]
  },
  {
   "cell_type": "code",
   "execution_count": 16,
   "id": "a699a6e0",
   "metadata": {},
   "outputs": [
    {
     "data": {
      "text/plain": [
       "b'\\r\\n\\r\\n<!doctype html>\\r\\n<!--[if lt IE 7]><html class=\"no-js ie6 oldie\" lang=\"en\"><![endif]-->\\r\\n<!--[if '"
      ]
     },
     "execution_count": 16,
     "metadata": {},
     "output_type": "execute_result"
    }
   ],
   "source": [
    "request_charts2.content[:100]"
   ]
  },
  {
   "cell_type": "code",
   "execution_count": 17,
   "id": "753ee5da",
   "metadata": {
    "scrolled": true
   },
   "outputs": [
    {
     "name": "stdout",
     "output_type": "stream",
     "text": [
      "<!DOCTYPE html>\n",
      "<!--[if lt IE 7]><html class=\"no-js ie6 oldie\" lang=\"en\"><![endif]-->\n",
      "<!--[if IE 7]><html class=\"no-js ie7 oldie\" lang=\"en\"><![endif]-->\n",
      "<!--[if IE 8]><html class=\"no-js ie8 oldie\" lang=\"en\"><![endif]-->\n",
      "<!--[if gt IE 8]><!-->\n",
      "<html class=\"no-js\" lang=\"en\">\n",
      " <!--<![endif]-->\n",
      " <head>\n",
      "  <meta charset=\"utf-8\"/>\n",
      "  <meta content=\"IE=edge,chrome=1\" http-equiv=\"X-UA-Compatible\"/>\n",
      "  <title>\n",
      "   Official Singles Chart Top 100 | Official Charts Company\n",
      "  </title>\n",
      "  <meta content=\"The Official UK Top 40 chart is compiled by the Official Charts Company, based on official sales of sales of downloads, CD, vinyl, audio streams and video streams. The Top 40 is broadcast on BBC Radio 1 and MTV, the full Top 100 is published exclusively on OfficialCharts.com.\" name=\"description\"/>\n",
      "  <meta content=\"Top 40, UK Top 40, Charts, Top 40 UK, UK Charts, UK singles chart, Music Charts, Official UK Top 40, Charts 2012, Hit 40 UK, UK Chart, Official Singles Chart, Official Albums Chart, Number 1, Number One\" name=\"keywords\"/>\n",
      "  <meta content=\"width=device-width,initial-scale=1\" name=\"viewport\"/>\n",
      "  <meta content=\"https://www.officialcharts.com\" property=\"og:image\"/>\n",
      "  <link href=\"/favicon.ico\" rel=\"shortcut icon\"/>\n",
      "  <link href=\"//fonts.googleapis.com\" rel=\"dns-prefetch\"/>\n",
      "  <link href=\"//fonts.googleapis.com/css?family=Roboto+Slab:400,300,700\" rel=\"stylesheet\" type=\"text/css\"/>\n",
      "  <link href=\"/Css/style.css\" rel=\"stylesheet\">\n",
      "   <script src=\"https://mailer.officialcharts.com/h/d/5C5B2B0228834DED/547A13F72B953763/popup.js\" type=\"text/javascript\">\n",
      "   </script>\n",
      "   <!-- Quantcast Choice. Consent Manager Tag v2.0 (for TCF 2.0) -->\n",
      "   <script async=\"true\" type=\"text/javascript\">\n",
      "    (function() {\n",
      "  var host = window.location.hostname;\n",
      "  var element = document.createElement('script');\n",
      "  var firstScript = document.getElementsByTagName('script')[0];\n",
      "  var url = 'https://quantcast.mgr.consensu.org'\n",
      "    .concat('/choice/', 'qFYsnYXTfYNA0', '/', host, '/choice.js')\n",
      "  var uspTries = 0;\n",
      "  var uspTriesLimit = 3;\n",
      "  element.async = true;\n",
      "  element.type = 'text/javascript';\n",
      "  element.src = url;\n",
      "\n",
      "  firstScript.parentNode.insertBefore(element, firstScript);\n",
      "\n",
      "  function makeStub() {\n",
      "    var TCF_LOCATOR_NAME = '__tcfapiLocator';\n",
      "    var queue = [];\n",
      "    var win = window;\n",
      "    var cmpFrame;\n",
      "\n",
      "    function addFrame() {\n",
      "      var doc = win.document;\n",
      "      var otherCMP = !!(win.frames[TCF_LOCATOR_NAME]);\n",
      "\n",
      "      if (!otherCMP) {\n",
      "        if (doc.body) {\n",
      "          var iframe = doc.createElement('iframe');\n",
      "\n",
      "          iframe.style.cssText = 'display:none';\n",
      "          iframe.name = TCF_LOCATOR_NAME;\n",
      "          doc.body.appendChild(iframe);\n",
      "        } else {\n",
      "          setTimeout(addFrame, 5);\n",
      "        }\n",
      "      }\n",
      "      return !otherCMP;\n",
      "    }\n",
      "\n",
      "    function tcfAPIHandler() {\n",
      "      var gdprApplies;\n",
      "      var args = arguments;\n",
      "\n",
      "      if (!args.length) {\n",
      "        return queue;\n",
      "      } else if (args[0] === 'setGdprApplies') {\n",
      "        if (\n",
      "          args.length > 3 &&\n",
      "          args[2] === 2 &&\n",
      "          type\n"
     ]
    }
   ],
   "source": [
    "soup2 = BeautifulSoup(request_charts2.content, 'html.parser')\n",
    "\n",
    "print(soup2.prettify()[:3000])"
   ]
  },
  {
   "cell_type": "code",
   "execution_count": 18,
   "id": "f47b7727",
   "metadata": {},
   "outputs": [],
   "source": [
    "artist2 = []\n",
    "for div in soup2.find_all('div', attrs={'class':'artist'}):\n",
    "    artist2.append(div.get_text().strip())"
   ]
  },
  {
   "cell_type": "code",
   "execution_count": 19,
   "id": "13712104",
   "metadata": {},
   "outputs": [],
   "source": [
    "title2 = []\n",
    "for div in soup2.find_all('div', attrs={'class':'title'}):\n",
    "    title2.append(div.get_text().strip())  "
   ]
  },
  {
   "cell_type": "code",
   "execution_count": 20,
   "id": "d27ccf8c",
   "metadata": {},
   "outputs": [
    {
     "data": {
      "text/html": [
       "<div>\n",
       "<style scoped>\n",
       "    .dataframe tbody tr th:only-of-type {\n",
       "        vertical-align: middle;\n",
       "    }\n",
       "\n",
       "    .dataframe tbody tr th {\n",
       "        vertical-align: top;\n",
       "    }\n",
       "\n",
       "    .dataframe thead th {\n",
       "        text-align: right;\n",
       "    }\n",
       "</style>\n",
       "<table border=\"1\" class=\"dataframe\">\n",
       "  <thead>\n",
       "    <tr style=\"text-align: right;\">\n",
       "      <th></th>\n",
       "      <th>artists</th>\n",
       "      <th>songs</th>\n",
       "    </tr>\n",
       "  </thead>\n",
       "  <tbody>\n",
       "    <tr>\n",
       "      <th>0</th>\n",
       "      <td>MILEY CYRUS</td>\n",
       "      <td>FLOWERS</td>\n",
       "    </tr>\n",
       "    <tr>\n",
       "      <th>1</th>\n",
       "      <td>PINKPANTHERESS</td>\n",
       "      <td>BOY'S A LIAR</td>\n",
       "    </tr>\n",
       "    <tr>\n",
       "      <th>2</th>\n",
       "      <td>SZA</td>\n",
       "      <td>KILL BILL</td>\n",
       "    </tr>\n",
       "    <tr>\n",
       "      <th>3</th>\n",
       "      <td>MIGUEL</td>\n",
       "      <td>SURE THING</td>\n",
       "    </tr>\n",
       "    <tr>\n",
       "      <th>4</th>\n",
       "      <td>REMA</td>\n",
       "      <td>CALM DOWN</td>\n",
       "    </tr>\n",
       "    <tr>\n",
       "      <th>...</th>\n",
       "      <td>...</td>\n",
       "      <td>...</td>\n",
       "    </tr>\n",
       "    <tr>\n",
       "      <th>95</th>\n",
       "      <td>DRAKE &amp; 21 SAVAGE</td>\n",
       "      <td>RICH FLEX</td>\n",
       "    </tr>\n",
       "    <tr>\n",
       "      <th>96</th>\n",
       "      <td>GLASS ANIMALS</td>\n",
       "      <td>HEAT WAVES</td>\n",
       "    </tr>\n",
       "    <tr>\n",
       "      <th>97</th>\n",
       "      <td>BURNA BOY</td>\n",
       "      <td>LAST LAST</td>\n",
       "    </tr>\n",
       "    <tr>\n",
       "      <th>98</th>\n",
       "      <td>JENGI</td>\n",
       "      <td>BEL MERCY</td>\n",
       "    </tr>\n",
       "    <tr>\n",
       "      <th>99</th>\n",
       "      <td>WEEKND</td>\n",
       "      <td>BLINDING LIGHTS</td>\n",
       "    </tr>\n",
       "  </tbody>\n",
       "</table>\n",
       "<p>100 rows × 2 columns</p>\n",
       "</div>"
      ],
      "text/plain": [
       "              artists            songs\n",
       "0         MILEY CYRUS          FLOWERS\n",
       "1      PINKPANTHERESS     BOY'S A LIAR\n",
       "2                 SZA        KILL BILL\n",
       "3              MIGUEL       SURE THING\n",
       "4                REMA        CALM DOWN\n",
       "..                ...              ...\n",
       "95  DRAKE & 21 SAVAGE        RICH FLEX\n",
       "96      GLASS ANIMALS       HEAT WAVES\n",
       "97          BURNA BOY        LAST LAST\n",
       "98              JENGI        BEL MERCY\n",
       "99             WEEKND  BLINDING LIGHTS\n",
       "\n",
       "[100 rows x 2 columns]"
      ]
     },
     "execution_count": 20,
     "metadata": {},
     "output_type": "execute_result"
    }
   ],
   "source": [
    "charts2 = pd.DataFrame({\"artists\":artist2,\n",
    "                        \"songs\":title2})\n",
    "\n",
    "charts2"
   ]
  },
  {
   "cell_type": "code",
   "execution_count": 21,
   "id": "adf4b22c",
   "metadata": {},
   "outputs": [
    {
     "data": {
      "text/html": [
       "<div>\n",
       "<style scoped>\n",
       "    .dataframe tbody tr th:only-of-type {\n",
       "        vertical-align: middle;\n",
       "    }\n",
       "\n",
       "    .dataframe tbody tr th {\n",
       "        vertical-align: top;\n",
       "    }\n",
       "\n",
       "    .dataframe thead th {\n",
       "        text-align: right;\n",
       "    }\n",
       "</style>\n",
       "<table border=\"1\" class=\"dataframe\">\n",
       "  <thead>\n",
       "    <tr style=\"text-align: right;\">\n",
       "      <th></th>\n",
       "      <th>artists</th>\n",
       "      <th>songs</th>\n",
       "    </tr>\n",
       "  </thead>\n",
       "  <tbody>\n",
       "    <tr>\n",
       "      <th>0</th>\n",
       "      <td>Miley Cyrus</td>\n",
       "      <td>Flowers</td>\n",
       "    </tr>\n",
       "    <tr>\n",
       "      <th>1</th>\n",
       "      <td>SZA</td>\n",
       "      <td>Kill Bill</td>\n",
       "    </tr>\n",
       "    <tr>\n",
       "      <th>2</th>\n",
       "      <td>PinkPantheress &amp; Ice Spice</td>\n",
       "      <td>Boy's A Liar, Pt. 2</td>\n",
       "    </tr>\n",
       "    <tr>\n",
       "      <th>3</th>\n",
       "      <td>Metro Boomin, The Weeknd &amp; 21 Savage</td>\n",
       "      <td>Creepin'</td>\n",
       "    </tr>\n",
       "    <tr>\n",
       "      <th>4</th>\n",
       "      <td>Morgan Wallen</td>\n",
       "      <td>Last Night</td>\n",
       "    </tr>\n",
       "    <tr>\n",
       "      <th>...</th>\n",
       "      <td>...</td>\n",
       "      <td>...</td>\n",
       "    </tr>\n",
       "    <tr>\n",
       "      <th>95</th>\n",
       "      <td>DRAKE &amp; 21 SAVAGE</td>\n",
       "      <td>RICH FLEX</td>\n",
       "    </tr>\n",
       "    <tr>\n",
       "      <th>96</th>\n",
       "      <td>GLASS ANIMALS</td>\n",
       "      <td>HEAT WAVES</td>\n",
       "    </tr>\n",
       "    <tr>\n",
       "      <th>97</th>\n",
       "      <td>BURNA BOY</td>\n",
       "      <td>LAST LAST</td>\n",
       "    </tr>\n",
       "    <tr>\n",
       "      <th>98</th>\n",
       "      <td>JENGI</td>\n",
       "      <td>BEL MERCY</td>\n",
       "    </tr>\n",
       "    <tr>\n",
       "      <th>99</th>\n",
       "      <td>WEEKND</td>\n",
       "      <td>BLINDING LIGHTS</td>\n",
       "    </tr>\n",
       "  </tbody>\n",
       "</table>\n",
       "<p>300 rows × 2 columns</p>\n",
       "</div>"
      ],
      "text/plain": [
       "                                 artists                songs\n",
       "0                            Miley Cyrus              Flowers\n",
       "1                                    SZA            Kill Bill\n",
       "2             PinkPantheress & Ice Spice  Boy's A Liar, Pt. 2\n",
       "3   Metro Boomin, The Weeknd & 21 Savage             Creepin'\n",
       "4                          Morgan Wallen           Last Night\n",
       "..                                   ...                  ...\n",
       "95                     DRAKE & 21 SAVAGE            RICH FLEX\n",
       "96                         GLASS ANIMALS           HEAT WAVES\n",
       "97                             BURNA BOY            LAST LAST\n",
       "98                                 JENGI            BEL MERCY\n",
       "99                                WEEKND      BLINDING LIGHTS\n",
       "\n",
       "[300 rows x 2 columns]"
      ]
     },
     "execution_count": 21,
     "metadata": {},
     "output_type": "execute_result"
    }
   ],
   "source": [
    "charts = pd.concat([billboard_top_100, charts1, charts2], axis=0)\n",
    "charts"
   ]
  },
  {
   "cell_type": "code",
   "execution_count": 22,
   "id": "a37d79ee",
   "metadata": {},
   "outputs": [
    {
     "data": {
      "text/html": [
       "<div>\n",
       "<style scoped>\n",
       "    .dataframe tbody tr th:only-of-type {\n",
       "        vertical-align: middle;\n",
       "    }\n",
       "\n",
       "    .dataframe tbody tr th {\n",
       "        vertical-align: top;\n",
       "    }\n",
       "\n",
       "    .dataframe thead th {\n",
       "        text-align: right;\n",
       "    }\n",
       "</style>\n",
       "<table border=\"1\" class=\"dataframe\">\n",
       "  <thead>\n",
       "    <tr style=\"text-align: right;\">\n",
       "      <th></th>\n",
       "      <th>index</th>\n",
       "      <th>artists</th>\n",
       "      <th>songs</th>\n",
       "    </tr>\n",
       "  </thead>\n",
       "  <tbody>\n",
       "    <tr>\n",
       "      <th>0</th>\n",
       "      <td>0</td>\n",
       "      <td>Miley Cyrus</td>\n",
       "      <td>Flowers</td>\n",
       "    </tr>\n",
       "    <tr>\n",
       "      <th>1</th>\n",
       "      <td>1</td>\n",
       "      <td>SZA</td>\n",
       "      <td>Kill Bill</td>\n",
       "    </tr>\n",
       "    <tr>\n",
       "      <th>2</th>\n",
       "      <td>2</td>\n",
       "      <td>PinkPantheress &amp; Ice Spice</td>\n",
       "      <td>Boy's A Liar, Pt. 2</td>\n",
       "    </tr>\n",
       "    <tr>\n",
       "      <th>3</th>\n",
       "      <td>3</td>\n",
       "      <td>Metro Boomin, The Weeknd &amp; 21 Savage</td>\n",
       "      <td>Creepin'</td>\n",
       "    </tr>\n",
       "    <tr>\n",
       "      <th>4</th>\n",
       "      <td>4</td>\n",
       "      <td>Morgan Wallen</td>\n",
       "      <td>Last Night</td>\n",
       "    </tr>\n",
       "    <tr>\n",
       "      <th>...</th>\n",
       "      <td>...</td>\n",
       "      <td>...</td>\n",
       "      <td>...</td>\n",
       "    </tr>\n",
       "    <tr>\n",
       "      <th>294</th>\n",
       "      <td>95</td>\n",
       "      <td>DRAKE &amp; 21 SAVAGE</td>\n",
       "      <td>RICH FLEX</td>\n",
       "    </tr>\n",
       "    <tr>\n",
       "      <th>295</th>\n",
       "      <td>96</td>\n",
       "      <td>GLASS ANIMALS</td>\n",
       "      <td>HEAT WAVES</td>\n",
       "    </tr>\n",
       "    <tr>\n",
       "      <th>296</th>\n",
       "      <td>97</td>\n",
       "      <td>BURNA BOY</td>\n",
       "      <td>LAST LAST</td>\n",
       "    </tr>\n",
       "    <tr>\n",
       "      <th>297</th>\n",
       "      <td>98</td>\n",
       "      <td>JENGI</td>\n",
       "      <td>BEL MERCY</td>\n",
       "    </tr>\n",
       "    <tr>\n",
       "      <th>298</th>\n",
       "      <td>99</td>\n",
       "      <td>WEEKND</td>\n",
       "      <td>BLINDING LIGHTS</td>\n",
       "    </tr>\n",
       "  </tbody>\n",
       "</table>\n",
       "<p>299 rows × 3 columns</p>\n",
       "</div>"
      ],
      "text/plain": [
       "     index                               artists                songs\n",
       "0        0                           Miley Cyrus              Flowers\n",
       "1        1                                   SZA            Kill Bill\n",
       "2        2            PinkPantheress & Ice Spice  Boy's A Liar, Pt. 2\n",
       "3        3  Metro Boomin, The Weeknd & 21 Savage             Creepin'\n",
       "4        4                         Morgan Wallen           Last Night\n",
       "..     ...                                   ...                  ...\n",
       "294     95                     DRAKE & 21 SAVAGE            RICH FLEX\n",
       "295     96                         GLASS ANIMALS           HEAT WAVES\n",
       "296     97                             BURNA BOY            LAST LAST\n",
       "297     98                                 JENGI            BEL MERCY\n",
       "298     99                                WEEKND      BLINDING LIGHTS\n",
       "\n",
       "[299 rows x 3 columns]"
      ]
     },
     "execution_count": 22,
     "metadata": {},
     "output_type": "execute_result"
    }
   ],
   "source": [
    "charts = charts.drop_duplicates()\n",
    "charts.reset_index()"
   ]
  },
  {
   "cell_type": "code",
   "execution_count": 23,
   "id": "3cff610c",
   "metadata": {},
   "outputs": [
    {
     "name": "stdout",
     "output_type": "stream",
     "text": [
      "enter a song name: Last Night\n",
      "Your choice is: \n"
     ]
    },
    {
     "data": {
      "text/html": [
       "<div>\n",
       "<style scoped>\n",
       "    .dataframe tbody tr th:only-of-type {\n",
       "        vertical-align: middle;\n",
       "    }\n",
       "\n",
       "    .dataframe tbody tr th {\n",
       "        vertical-align: top;\n",
       "    }\n",
       "\n",
       "    .dataframe thead th {\n",
       "        text-align: right;\n",
       "    }\n",
       "</style>\n",
       "<table border=\"1\" class=\"dataframe\">\n",
       "  <thead>\n",
       "    <tr style=\"text-align: right;\">\n",
       "      <th></th>\n",
       "      <th>artists</th>\n",
       "      <th>songs</th>\n",
       "    </tr>\n",
       "  </thead>\n",
       "  <tbody>\n",
       "    <tr>\n",
       "      <th>4</th>\n",
       "      <td>Morgan Wallen</td>\n",
       "      <td>Last Night</td>\n",
       "    </tr>\n",
       "  </tbody>\n",
       "</table>\n",
       "</div>"
      ],
      "text/plain": [
       "         artists       songs\n",
       "4  Morgan Wallen  Last Night"
      ]
     },
     "metadata": {},
     "output_type": "display_data"
    },
    {
     "name": "stdout",
     "output_type": "stream",
     "text": [
      "and our recommendation is:\n"
     ]
    },
    {
     "data": {
      "text/html": [
       "<div>\n",
       "<style scoped>\n",
       "    .dataframe tbody tr th:only-of-type {\n",
       "        vertical-align: middle;\n",
       "    }\n",
       "\n",
       "    .dataframe tbody tr th {\n",
       "        vertical-align: top;\n",
       "    }\n",
       "\n",
       "    .dataframe thead th {\n",
       "        text-align: right;\n",
       "    }\n",
       "</style>\n",
       "<table border=\"1\" class=\"dataframe\">\n",
       "  <thead>\n",
       "    <tr style=\"text-align: right;\">\n",
       "      <th></th>\n",
       "      <th>artists</th>\n",
       "      <th>songs</th>\n",
       "    </tr>\n",
       "  </thead>\n",
       "  <tbody>\n",
       "    <tr>\n",
       "      <th>58</th>\n",
       "      <td>Gzuz</td>\n",
       "      <td>Späti</td>\n",
       "    </tr>\n",
       "  </tbody>\n",
       "</table>\n",
       "</div>"
      ],
      "text/plain": [
       "   artists  songs\n",
       "58    Gzuz  Späti"
      ]
     },
     "metadata": {},
     "output_type": "display_data"
    }
   ],
   "source": [
    "recommend_song = input(\"enter a song name: \")\n",
    "\n",
    "if recommend_song in list(charts['songs']):\n",
    "    print(\"Your choice is: \")\n",
    "    display(charts.loc[lambda charts: charts['songs'] == recommend_song])\n",
    "    print(\"and our recommendation is:\")\n",
    "    display(charts.sample())\n",
    "else:\n",
    "    print(\"no recommendation\")\n",
    "    "
   ]
  },
  {
   "cell_type": "code",
   "execution_count": null,
   "id": "97b6a06a",
   "metadata": {},
   "outputs": [],
   "source": []
  }
 ],
 "metadata": {
  "kernelspec": {
   "display_name": "Python 3 (ipykernel)",
   "language": "python",
   "name": "python3"
  },
  "language_info": {
   "codemirror_mode": {
    "name": "ipython",
    "version": 3
   },
   "file_extension": ".py",
   "mimetype": "text/x-python",
   "name": "python",
   "nbconvert_exporter": "python",
   "pygments_lexer": "ipython3",
   "version": "3.9.12"
  }
 },
 "nbformat": 4,
 "nbformat_minor": 5
}
